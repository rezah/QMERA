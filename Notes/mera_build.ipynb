{
 "cells": [
  {
   "cell_type": "code",
   "execution_count": 1,
   "id": "339c01f3-b66d-4d80-ae5b-6f9a444381b5",
   "metadata": {},
   "outputs": [
    {
     "ename": "ModuleNotFoundError",
     "evalue": "No module named 'quf'",
     "output_type": "error",
     "traceback": [
      "\u001b[0;31m---------------------------------------------------------------------------\u001b[0m",
      "\u001b[0;31mModuleNotFoundError\u001b[0m                       Traceback (most recent call last)",
      "\u001b[0;32m/tmp/ipykernel_12290/3909114176.py\u001b[0m in \u001b[0;36m<module>\u001b[0;34m\u001b[0m\n\u001b[1;32m      5\u001b[0m \u001b[0;32mimport\u001b[0m \u001b[0mmatplotlib\u001b[0m\u001b[0;34m.\u001b[0m\u001b[0mpyplot\u001b[0m \u001b[0;32mas\u001b[0m \u001b[0mplt\u001b[0m\u001b[0;34m\u001b[0m\u001b[0;34m\u001b[0m\u001b[0m\n\u001b[1;32m      6\u001b[0m \u001b[0;32mimport\u001b[0m \u001b[0mcotengra\u001b[0m \u001b[0;32mas\u001b[0m \u001b[0mctg\u001b[0m\u001b[0;34m\u001b[0m\u001b[0;34m\u001b[0m\u001b[0m\n\u001b[0;32m----> 7\u001b[0;31m \u001b[0;32mimport\u001b[0m \u001b[0mquf\u001b[0m\u001b[0;34m\u001b[0m\u001b[0;34m\u001b[0m\u001b[0m\n\u001b[0m\u001b[1;32m      8\u001b[0m \u001b[0;32mimport\u001b[0m \u001b[0mquimb\u001b[0m \u001b[0;32mas\u001b[0m \u001b[0mqu\u001b[0m\u001b[0;34m\u001b[0m\u001b[0;34m\u001b[0m\u001b[0m\n\u001b[1;32m      9\u001b[0m \u001b[0;32mimport\u001b[0m \u001b[0mitertools\u001b[0m\u001b[0;34m\u001b[0m\u001b[0;34m\u001b[0m\u001b[0m\n",
      "\u001b[0;31mModuleNotFoundError\u001b[0m: No module named 'quf'"
     ]
    }
   ],
   "source": [
    "from quimb import *\n",
    "from quimb.tensor import *\n",
    "import numpy as np\n",
    "import quimb.tensor as qtn\n",
    "import matplotlib.pyplot as plt\n",
    "import cotengra as ctg\n",
    "import quf\n",
    "import quimb as qu\n",
    "import itertools\n",
    "import re"
   ]
  },
  {
   "cell_type": "code",
   "execution_count": null,
   "id": "5eb2ed84-d2eb-4e67-9e84-9c70f4054abb",
   "metadata": {},
   "outputs": [],
   "source": [
    "phys_dim=2\n",
    "tn_U,list_sites, list_inter,list_tags_I, list_tags_U,list_scale=quf.Tn_mera_build()\n"
   ]
  },
  {
   "cell_type": "code",
   "execution_count": null,
   "id": "16b67cf6-8240-43e6-b3ce-644044752ab8",
   "metadata": {},
   "outputs": [],
   "source": [
    "fix = {\n",
    "      f'reg{i},{j}': (i, j) for i, j in itertools.product(range(tn_U.Lx), range(tn_U.Ly))\n",
    "  }\n",
    "fix.update(fix)\n",
    "\n",
    "tn_U.draw( color=list_scale,fix=fix, \n",
    "   legend=True,show_tags=False, arrow_length=0.2,node_outline_size=1.2,\n",
    "    node_outline_darkness=0.2,arrow_closeness=1.0,\n",
    "    font_size=12, font_size_inner=22)\n"
   ]
  },
  {
   "cell_type": "code",
   "execution_count": null,
   "id": "7c8f33f7-b0a3-4263-af80-ddc8a11db176",
   "metadata": {},
   "outputs": [],
   "source": []
  }
 ],
 "metadata": {
  "kernelspec": {
   "display_name": "Python 3 (ipykernel)",
   "language": "python",
   "name": "python3"
  },
  "language_info": {
   "codemirror_mode": {
    "name": "ipython",
    "version": 3
   },
   "file_extension": ".py",
   "mimetype": "text/x-python",
   "name": "python",
   "nbconvert_exporter": "python",
   "pygments_lexer": "ipython3",
   "version": "3.8.11"
  }
 },
 "nbformat": 4,
 "nbformat_minor": 5
}
