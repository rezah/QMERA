{
 "cells": [
  {
   "cell_type": "code",
   "execution_count": 1,
   "id": "339c01f3-b66d-4d80-ae5b-6f9a444381b5",
   "metadata": {},
   "outputs": [
    {
     "ename": "AttributeError",
     "evalue": "'NoneType' object has no attribute 'loader'",
     "output_type": "error",
     "traceback": [
      "\u001b[0;31m---------------------------------------------------------------------------\u001b[0m",
      "\u001b[0;31mAttributeError\u001b[0m                            Traceback (most recent call last)",
      "\u001b[0;32m/tmp/ipykernel_10395/3403860808.py\u001b[0m in \u001b[0;36m<module>\u001b[0;34m\u001b[0m\n\u001b[1;32m      7\u001b[0m \u001b[0;32mimport\u001b[0m \u001b[0mimportlib\u001b[0m\u001b[0;34m.\u001b[0m\u001b[0mutil\u001b[0m\u001b[0;34m\u001b[0m\u001b[0;34m\u001b[0m\u001b[0m\n\u001b[1;32m      8\u001b[0m \u001b[0mspec\u001b[0m \u001b[0;34m=\u001b[0m \u001b[0mimportlib\u001b[0m\u001b[0;34m.\u001b[0m\u001b[0mutil\u001b[0m\u001b[0;34m.\u001b[0m\u001b[0mspec_from_file_location\u001b[0m\u001b[0;34m(\u001b[0m\u001b[0;34m\"quf.py\"\u001b[0m\u001b[0;34m,\u001b[0m \u001b[0;34m\"/home/reza/Dropbox/Prog/MERA/\"\u001b[0m\u001b[0;34m)\u001b[0m\u001b[0;34m\u001b[0m\u001b[0;34m\u001b[0m\u001b[0m\n\u001b[0;32m----> 9\u001b[0;31m \u001b[0mquf\u001b[0m \u001b[0;34m=\u001b[0m \u001b[0mimportlib\u001b[0m\u001b[0;34m.\u001b[0m\u001b[0mutil\u001b[0m\u001b[0;34m.\u001b[0m\u001b[0mmodule_from_spec\u001b[0m\u001b[0;34m(\u001b[0m\u001b[0mspec\u001b[0m\u001b[0;34m)\u001b[0m\u001b[0;34m\u001b[0m\u001b[0;34m\u001b[0m\u001b[0m\n\u001b[0m",
      "\u001b[0;32m~/anaconda3/lib/python3.8/importlib/_bootstrap.py\u001b[0m in \u001b[0;36mmodule_from_spec\u001b[0;34m(spec)\u001b[0m\n",
      "\u001b[0;31mAttributeError\u001b[0m: 'NoneType' object has no attribute 'loader'"
     ]
    }
   ],
   "source": [
    "from quimb import *\n",
    "from quimb.tensor import *\n",
    "import numpy as np\n",
    "import quimb.tensor as qtn\n",
    "import matplotlib.pyplot as plt\n",
    "import cotengra as ctg"
   ]
  },
  {
   "cell_type": "code",
   "execution_count": null,
   "id": "2324381e-76a3-4bf4-824a-d35445a00d16",
   "metadata": {},
   "outputs": [],
   "source": [
    "data_type='float64'\n",
    "dist_type=\"normal\"         #{'normal', 'uniform', 'exp'}\n",
    "method=\"mgs\"           #svd, qr, mgs, exp\n",
    "jit_fn=False\n",
    "phys_dim=2\n",
    "chi=8\n",
    "device='cpu'\n",
    "\n",
    "####################################\n",
    "\n",
    "opt = ctg.ReusableHyperOptimizer(\n",
    " progbar=True,\n",
    " minimize='flops',       #{'size', 'flops', 'combo'}, what to target\n",
    " reconf_opts={}, \n",
    " max_repeats=2**6,\n",
    " max_time=3600,\n",
    "#    max_time='rate:1e6',\n",
    " parallel=True,\n",
    " #optlib='baytune',         # 'nevergrad', 'baytune', 'chocolate','random'\n",
    " directory=\"cash/\"\n",
    ")\n",
    "#opt=\"auto-hq\"\n",
    "\n",
    "\n",
    "tn_U,list_sites, list_inter,list_tags_I, list_tags_U,list_scale=quf.Tn_mera_build(\n",
    "phys_dim=phys_dim,\n",
    "chi=chi,\n",
    "data_type=data_type,\n",
    "dist_type=dist_type)\n",
    "save_to_disk(method,\"Store/method\")\n",
    "############################################################\n"
   ]
  }
 ],
 "metadata": {
  "kernelspec": {
   "display_name": "Python [conda env:root] *",
   "language": "python",
   "name": "conda-root-py"
  },
  "language_info": {
   "codemirror_mode": {
    "name": "ipython",
    "version": 3
   },
   "file_extension": ".py",
   "mimetype": "text/x-python",
   "name": "python",
   "nbconvert_exporter": "python",
   "pygments_lexer": "ipython3",
   "version": "3.8.11"
  }
 },
 "nbformat": 4,
 "nbformat_minor": 5
}
