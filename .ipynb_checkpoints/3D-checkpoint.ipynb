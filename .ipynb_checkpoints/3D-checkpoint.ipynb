{
 "cells": [
  {
   "cell_type": "code",
   "execution_count": 1,
   "metadata": {
    "cell_id": "00000-f268ea16-4bec-49c2-a008-cc4c1b57bc20",
    "deepnote_cell_type": "code",
    "deepnote_to_be_reexecuted": false,
    "execution_millis": 3562,
    "execution_start": 1624659714990,
    "scrolled": true,
    "source_hash": "ec3503de",
    "tags": []
   },
   "outputs": [],
   "source": [
    "%config InlineBackend.figure_formats = ['svg']\n",
    "import itertools\n",
    "import quimb as qu\n",
    "import quimb.tensor as qtn\n",
    "from quimb.tensor.tensor_2d import *\n",
    "from quimb.tensor.tensor_gen import *\n",
    "import cotengra as ctg\n",
    "import quf\n",
    "from numpy import prod"
   ]
  },
  {
   "cell_type": "code",
   "execution_count": null,
   "metadata": {
    "scrolled": false
   },
   "outputs": [
    {
     "name": "stdout",
     "output_type": "stream",
     "text": [
      "N_x, N_y, N_z 16 16 16 chi 32\n",
      "\n",
      "\n",
      "\n",
      "\n",
      "\n",
      "\n",
      "\n",
      "\n"
     ]
    }
   ],
   "source": [
    "Num_layers = 2\n",
    "N_x=4*4\n",
    "N_y=4*4\n",
    "N_z=4*4\n",
    "tn_3d=TN3D_rand(N_x, N_y, N_z, 2, cyclic=False, site_tag_id='g{},{},{}', dtype='float64')\n",
    "tn_U = quf.TN3DUni.empty(N_x, N_y, N_z, phys_dim=2)\n",
    "\n",
    "\n",
    "chi=32\n",
    "num_layer=0\n",
    "list_tags_U=[]\n",
    "list_tags_I=[]\n",
    "num_layer=[0,0]  #U, I\n",
    "list_sites, list_inter=quf.Heis_local_Ham_open_3D(N_x,N_y,N_z)\n",
    "print (\"N_x, N_y, N_z\", N_x, N_y,N_z, \"chi\", chi)\n",
    "\n",
    "\n",
    "\n",
    "quf.Iso_44_11_3D(tn_U, N_x, N_y, N_z,chi,num_layer,list_tags_U,list_tags_I,uni=\"on\",last_bond=\"off\", cycle=\"off\")\n",
    "quf.Iso_44_11_3D(tn_U, N_x//4, N_y//4, N_z//4,chi,num_layer,list_tags_U,list_tags_I,uni=\"on\",last_bond=\"on\", cycle=\"off\")\n",
    "#quf.Iso_22_3D(tn_U, N_x//4, N_y//4,N_z//4,num_layer,list_tags_I,chi,seed_val=10,last_bond=\"on\")\n",
    "\n",
    "\n",
    "#quf.Iso_33_11_3D(tn_U, N_x, N_y, N_z,chi,num_layer,list_tags_U,list_tags_I,uni=\"on\",last_bond=\"off\",cycle=\"on\")\n",
    "#quf.Iso_33_11_3D(tn_U, N_x//3, N_y//3, N_z//3,chi,num_layer,list_tags_U,list_tags_I,uni=\"on\",last_bond=\"on\",cycle=\"on\")\n",
    "#print ( list_tags_U,list_tags_I,num_layer, tn_U[list_tags_U[1]] )\n",
    "\n",
    "tn_U.unitize_(method='mgs', allow_no_left_inds=True)\n",
    "quf.check_tags(tn_U, list_tags_I, list_tags_U)\n",
    "\n",
    "\n",
    "\n",
    "#quf.Iso_22_3D(tn_U, N_x//3, N_y//3,N_z//3,0,chi,seed_val=10,last_bond=\"on\")\n",
    "\n",
    "\n",
    "\n",
    "# quf.Iso_22_3D(tn_U, N_x, N_y,N_z,0,chi,seed_val=10,last_bond=\"off\")\n",
    "# quf.Iso_22_3D(tn_U, N_x//2, N_y//2,N_z//2,0,chi,seed_val=10,last_bond=\"on\")\n",
    "\n",
    "\n",
    "#quf.uni_xy_33_3D(tn_U, N_x, N_y, N_z , 0,chi, seed_val=10, cycle=\"off\")\n",
    "#quf.Iso_33_3D(tn_U, N_x, N_y,N_z,0,chi,seed_val=10,last_bond=\"on\")\n",
    "#quf.Iso_33_3D(tn_U, N_x//3, N_y//3,N_z//3,1,chi,seed_val=10,last_bond=\"on\")\n"
   ]
  },
  {
   "cell_type": "code",
   "execution_count": null,
   "metadata": {},
   "outputs": [],
   "source": [
    "quf.expand_bond_MERA(tn_U, list_tags_I, new_bond_dim=32, rand_strength=0.05)    "
   ]
  },
  {
   "cell_type": "code",
   "execution_count": null,
   "metadata": {},
   "outputs": [],
   "source": [
    "opt = ctg.ReusableHyperOptimizer(\n",
    "    methods=['greedy', 'kahypar'],\n",
    "    max_repeats=32,\n",
    "    max_time='rate:1e6',\n",
    "    parallel=True,\n",
    "    reconf_opts={},\n",
    "    directory='hyp-rf-32',\n",
    "    progbar=True,\n",
    ")\n",
    "opt=\"auto-hq\""
   ]
  },
  {
   "cell_type": "code",
   "execution_count": null,
   "metadata": {},
   "outputs": [],
   "source": [
    "lightcone_tags = [tn_U.site_tag(*coo) for coo in [ (2,1,1), (2,1,2)  ]]\n",
    "lightcone_tags"
   ]
  },
  {
   "cell_type": "code",
   "execution_count": null,
   "metadata": {},
   "outputs": [],
   "source": [
    "#print (tn_U.select('I2,1,1'))"
   ]
  },
  {
   "cell_type": "code",
   "execution_count": null,
   "metadata": {},
   "outputs": [],
   "source": [
    "#tn_U.draw(lightcone_tags+['reg2,1,1'])\n",
    "#(tn_U.select(lightcone_tags, which='any') & tn_U.select_any(lightcone_tags)).draw(lightcone_tags+[\"const\"], show_inds=False, show_tags=False)\n",
    "#(tn_U.select(lightcone_tags, which='any') & tn_U.select_any(lightcone_tags))^all"
   ]
  },
  {
   "cell_type": "code",
   "execution_count": null,
   "metadata": {},
   "outputs": [],
   "source": [
    "print()\n",
    "for i in range(len(list_sites)):\n",
    "      where=list_sites[i]\n",
    "      print(where)\n",
    "      tags = [ tn_U.site_tag(*coo) for coo in where ]\n",
    "      tn_U_ij = tn_U.select(tags, which='any')\n",
    "      #tn_U_ij.draw( iterations=600, figsize=(10, 10),node_size=700 , edge_scale=6,  initial_layout='spectral', edge_alpha=0.63333)\n",
    "      #plt.savefig(f'qmera-brickwall{i}.pdf')\n",
    "      #plt.clf()\n",
    "      tn_U_ij_G=tn_U_ij.gate( qu.pauli(\"I\",dtype=\"float64\") & qu.pauli(\"I\",dtype=\"float64\"), list_sites[i] )\n",
    "      tn_U_ij_ex = (tn_U_ij_G & tn_U_ij.H)\n",
    "      print ( \"contract\", i, tn_U_ij_ex.contraction_width( optimize=opt), tn_U_ij_ex.contraction_cost(optimize=opt) )\n",
    "      print ( tn_U_ij_ex.contract(all, optimize=opt) )\n"
   ]
  },
  {
   "cell_type": "code",
   "execution_count": null,
   "metadata": {},
   "outputs": [],
   "source": [
    "tnopt_mera=quf.auto_diff_mera( tn_U, list_sites,list_inter, opt, optimizer_c='L-BFGS-B' )\n",
    "tnopt_mera.optimizer = 'L-BFGS-B' "
   ]
  },
  {
   "cell_type": "code",
   "execution_count": null,
   "metadata": {},
   "outputs": [],
   "source": [
    "#tn_U = tnopt_mera.optimize(n=400 ,ftol= 2.220e-10, maxfun= 10e+9, gtol= 1e-12, eps= 1.49016e-08, maxls=400, iprint = 0, disp=False)\n"
   ]
  }
 ],
 "metadata": {
  "deepnote": {
   "is_reactive": false
  },
  "deepnote_execution_queue": [],
  "deepnote_notebook_id": "2a7f69ce-beb4-4bb1-8af8-9d88b6d49b2d",
  "kernelspec": {
   "display_name": "Python 3",
   "language": "python",
   "name": "python3"
  },
  "language_info": {
   "codemirror_mode": {
    "name": "ipython",
    "version": 3
   },
   "file_extension": ".py",
   "mimetype": "text/x-python",
   "name": "python",
   "nbconvert_exporter": "python",
   "pygments_lexer": "ipython3",
   "version": "3.8.5"
  }
 },
 "nbformat": 4,
 "nbformat_minor": 2
}
