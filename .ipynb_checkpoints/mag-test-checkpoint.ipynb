{
 "cells": [
  {
   "cell_type": "code",
   "execution_count": 1,
   "id": "f3876adc",
   "metadata": {},
   "outputs": [],
   "source": [
    "%config InlineBackend.figure_formats = ['svg']\n",
    "import itertools\n",
    "import quimb as qu\n",
    "import quimb.tensor as qtn\n",
    "from quimb.tensor.tensor_2d import *\n",
    "from quimb.tensor.tensor_gen import *\n",
    "import cotengra as ctg\n",
    "import quf\n",
    "from numpy import prod\n",
    "import mera2d\n",
    "import tree2d\n",
    "from cmath import exp, pi, sin, cos, acos, log, polar\n"
   ]
  },
  {
   "cell_type": "code",
   "execution_count": 4,
   "id": "86be87c0",
   "metadata": {},
   "outputs": [
    {
     "name": "stdout",
     "output_type": "stream",
     "text": [
      "N_x, N_y 8 8 chi 4\n"
     ]
    },
    {
     "data": {
      "text/plain": [
       "<TN2DUni(tensors=165, indices=266, Lx=8, Ly=8, max_bond=4)>"
      ]
     },
     "execution_count": 4,
     "metadata": {},
     "output_type": "execute_result"
    }
   ],
   "source": [
    "  data_type='float32'\n",
    "  dist_type=\"normal\"         #{'normal', 'uniform', 'exp'}\n",
    "  method=\"mgs\"           #svd, qr, mgs, exp\n",
    "  jit_fn=True\n",
    "  chi=4\n",
    "  device='cpu'\n",
    "\n",
    "####################################\n",
    "\n",
    "  opt = ctg.ReusableHyperOptimizer(\n",
    "     progbar=True,\n",
    "     minimize='flops',       #{'size', 'flops', 'combo'}, what to target\n",
    "     reconf_opts={}, \n",
    "     max_repeats=2**7,\n",
    "     max_time=3600,\n",
    "#    max_time='rate:1e6',\n",
    "     parallel=True,\n",
    "     #optlib='baytune',         # 'nevergrad', 'baytune', 'chocolate','random'\n",
    "     directory=\"cash/\"\n",
    " )\n",
    "  #opt=\"auto-hq\"\n",
    "\n",
    "\n",
    "  tn_U,list_sites, list_inter,list_tags_I, list_tags_U,list_scale=quf.Tn_mera_build(chi=chi,data_type=data_type,dist_type=dist_type)\n",
    "  qu.save_to_disk(method,\"Store/method\")\n",
    "############################################################\n",
    "\n",
    "\n",
    "  tn_U.unitize_(method=method, allow_no_left_inds=True)\n",
    "\n",
    "  #tn_U=load_from_disk(\"Store/tn_U\")\n",
    "  #width_max, flops_max=quf.Info_contract(tn_U,list_sites,data_type=data_type,opt=opt)\n",
    "  #quf.Plot_TN(tn_U,list_scale)\n",
    "optimize="
   ]
  },
  {
   "cell_type": "code",
   "execution_count": 6,
   "id": "d5b8b6ed",
   "metadata": {},
   "outputs": [
    {
     "name": "stdout",
     "output_type": "stream",
     "text": [
      "(0, 0) (0, 0) 1.0\n"
     ]
    },
    {
     "ename": "NameError",
     "evalue": "name 'optimize' is not defined",
     "output_type": "error",
     "traceback": [
      "\u001b[0;31m---------------------------------------------------------------------------\u001b[0m",
      "\u001b[0;31mNameError\u001b[0m                                 Traceback (most recent call last)",
      "\u001b[0;32m<ipython-input-6-4021147635c7>\u001b[0m in \u001b[0;36m<module>\u001b[0;34m\u001b[0m\n\u001b[1;32m     36\u001b[0m         \u001b[0mtn_ij_exX\u001b[0m\u001b[0;34m.\u001b[0m\u001b[0mrank_simplify_\u001b[0m\u001b[0;34m(\u001b[0m\u001b[0;34m)\u001b[0m\u001b[0;34m\u001b[0m\u001b[0;34m\u001b[0m\u001b[0m\n\u001b[1;32m     37\u001b[0m         \u001b[0;32mif\u001b[0m \u001b[0mcount\u001b[0m \u001b[0;34m!=\u001b[0m \u001b[0;36m2\u001b[0m\u001b[0;34m:\u001b[0m\u001b[0;34m\u001b[0m\u001b[0;34m\u001b[0m\u001b[0m\n\u001b[0;32m---> 38\u001b[0;31m           \u001b[0mres\u001b[0m\u001b[0;34m+=\u001b[0m\u001b[0mtn_ij_exX\u001b[0m\u001b[0;34m.\u001b[0m\u001b[0mcontract\u001b[0m\u001b[0;34m(\u001b[0m\u001b[0mall\u001b[0m\u001b[0;34m,\u001b[0m \u001b[0moptimize\u001b[0m\u001b[0;34m=\u001b[0m\u001b[0moptimize\u001b[0m\u001b[0;34m)\u001b[0m\u001b[0;34m\u001b[0m\u001b[0;34m\u001b[0m\u001b[0m\n\u001b[0m\u001b[1;32m     39\u001b[0m         \u001b[0;32melse\u001b[0m\u001b[0;34m:\u001b[0m\u001b[0;34m\u001b[0m\u001b[0;34m\u001b[0m\u001b[0m\n\u001b[1;32m     40\u001b[0m           \u001b[0mres\u001b[0m\u001b[0;34m-=\u001b[0m\u001b[0mtn_ij_exX\u001b[0m\u001b[0;34m.\u001b[0m\u001b[0mcontract\u001b[0m\u001b[0;34m(\u001b[0m\u001b[0mall\u001b[0m\u001b[0;34m,\u001b[0m \u001b[0moptimize\u001b[0m\u001b[0;34m=\u001b[0m\u001b[0moptimize\u001b[0m\u001b[0;34m)\u001b[0m\u001b[0;34m\u001b[0m\u001b[0;34m\u001b[0m\u001b[0m\n",
      "\u001b[0;31mNameError\u001b[0m: name 'optimize' is not defined"
     ]
    }
   ],
   "source": [
    "Z = qu.pauli('Z',dtype=data_type) * (0.5)\n",
    "X = qu.pauli('X',dtype=data_type) * (0.5)\n",
    "Y=np.array([[0, -1],[1,0]]) * (0.5)\n",
    "\n",
    "N_x=tn_U.Lx\n",
    "N_y=tn_U.Ly\n",
    "\n",
    "X=X.astype(data_type)\n",
    "Z=Z.astype(data_type)\n",
    "Y=Y.astype(data_type)\n",
    "\n",
    "    \n",
    "list_sites=[]\n",
    "list_inter=[X,Y,Z]\n",
    " \n",
    "\n",
    "for i in range(N_x): \n",
    "  for j in range(N_y): \n",
    "        list_sites.append(  ( i,j)   )\n",
    "\n",
    "\n",
    "results=[]        \n",
    "for coor1 in   list_sites:\n",
    " for coor2 in   list_sites:\n",
    "    tx1,ty1=coor1\n",
    "    tx2,ty2=coor2\n",
    "    dis_val=(exp(1j * pi * (tx1-tx2) )*exp(1j * pi * (ty1-ty2) )).real\n",
    "    print (coor1,coor2, dis_val )\n",
    "    tags = [tn_U.site_tag(*coor1)]+[tn_U.site_tag(*coor2)]\n",
    "    tn_ij = tn_U.select(tags, which='any')\n",
    "    res=0\n",
    "    for count,ele in enumerate(list_inter):\n",
    "        tn_ij_X=tn_ij.gate(ele, (coor1,) )\n",
    "        tn_ij_XX=tn_ij_X.gate(ele, (coor2,))\n",
    "        tn_ij_exX = ( tn_ij.H &  tn_ij_XX)\n",
    "        tn_ij_exX.rank_simplify_()\n",
    "        if count != 2:\n",
    "          res+=tn_ij_exX.contract(all, optimize=optimize)\n",
    "        else:\n",
    "          res-=tn_ij_exX.contract(all, optimize=optimize)\n",
    "    \n",
    "    print (res)\n",
    "    results.append(res*dis_val)\n",
    "        \n",
    "        "
   ]
  }
 ],
 "metadata": {
  "kernelspec": {
   "display_name": "Python 3",
   "language": "python",
   "name": "python3"
  },
  "language_info": {
   "codemirror_mode": {
    "name": "ipython",
    "version": 3
   },
   "file_extension": ".py",
   "mimetype": "text/x-python",
   "name": "python",
   "nbconvert_exporter": "python",
   "pygments_lexer": "ipython3",
   "version": "3.8.5"
  }
 },
 "nbformat": 4,
 "nbformat_minor": 5
}
