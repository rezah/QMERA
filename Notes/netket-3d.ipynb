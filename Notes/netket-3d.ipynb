{
 "cells": [
  {
   "cell_type": "markdown",
   "metadata": {},
   "source": [
    "# netket"
   ]
  },
  {
   "cell_type": "code",
   "execution_count": 1,
   "metadata": {},
   "outputs": [],
   "source": [
    "# Import netket library\n",
    "import netket as nk\n",
    "# Import Json, this will be needed to examine log files\n",
    "import json\n",
    "# Helper libraries\n",
    "import numpy as np\n",
    "import matplotlib.pyplot as plt\n",
    "import time"
   ]
  },
  {
   "cell_type": "code",
   "execution_count": 2,
   "metadata": {},
   "outputs": [],
   "source": [
    "# Define a 2d chain\n",
    "L = 4\n",
    "g = nk.graph.Hypercube(length=L, n_dim=3, pbc=True)"
   ]
  },
  {
   "cell_type": "code",
   "execution_count": 5,
   "metadata": {},
   "outputs": [],
   "source": [
    "hi = nk.hilbert.Spin(s=0.5, N=g.n_nodes, total_sz=0)"
   ]
  },
  {
   "cell_type": "code",
   "execution_count": 6,
   "metadata": {},
   "outputs": [],
   "source": [
    "ha = nk.operator.Heisenberg(hilbert=hi, graph=g)"
   ]
  },
  {
   "cell_type": "code",
   "execution_count": 7,
   "metadata": {},
   "outputs": [],
   "source": [
    "import jax\n",
    "\n",
    "# class Model(nk.nn.Module):\n",
    "#     @nk.nn.compact\n",
    "#     def __call__(self, x):\n",
    "#         x = nk.nn.Dense(features=2*x.shape[-1], dtype=np.complex128, kernel_init=nk.nn.initializers.normal(stddev=0.1), bias_init=nk.nn.initializers.normal(stddev=0.1))(x)\n",
    "#         x = nk.nn.activation.log_cosh(x)\n",
    "#         return jax.numpy.sum(x, axis=-1)\n",
    "\n",
    "# ffnn = Model()\n",
    "\n",
    "ma = nk.models.RBM(alpha=1)\n",
    "\n",
    "sa = nk.sampler.MetropolisExchange(hi, graph=g)\n",
    "\n",
    "# The variational state\n",
    "vs = nk.vqs.MCState(sa, ma, n_samples=1000)\n",
    "\n",
    "opt = nk.optimizer.Sgd(learning_rate=0.05)\n",
    "\n",
    "# Stochastic Reconfiguration\n",
    "sr = nk.optimizer.SR(diag_shift=0.1)"
   ]
  },
  {
   "cell_type": "code",
   "execution_count": 8,
   "metadata": {},
   "outputs": [
    {
     "name": "stderr",
     "output_type": "stream",
     "text": [
      "100%|█████████████████████████████████████████████████████████████| 300/300 [05:13<00:00,  1.05s/it, Energy=-226.31 ± 0.45 [σ²=201.18, R̂=1.0030]]"
     ]
    },
    {
     "name": "stdout",
     "output_type": "stream",
     "text": [
      "### Feed Forward calculation\n",
      "Has 4224 parameters\n",
      "The Feed Forward calculation took 319.373006105423 seconds\n"
     ]
    },
    {
     "name": "stderr",
     "output_type": "stream",
     "text": [
      "\n"
     ]
    }
   ],
   "source": [
    "# The ground-state optimization loop\n",
    "gs = nk.VMC(\n",
    "    hamiltonian=ha,\n",
    "    optimizer=opt,\n",
    "    preconditioner=sr,\n",
    "    variational_state=vs)\n",
    "\n",
    "\n",
    "start = time.time()\n",
    "gs.run(out='FF', n_iter=300)\n",
    "end = time.time()\n",
    "\n",
    "print('### Feed Forward calculation')\n",
    "print('Has',vs.n_parameters,'parameters')\n",
    "print('The Feed Forward calculation took',end-start,'seconds')"
   ]
  },
  {
   "cell_type": "code",
   "execution_count": 9,
   "metadata": {},
   "outputs": [
    {
     "data": {
      "text/plain": [
       "-226.31 ± 0.45 [σ²=201.18, R̂=1.0030]"
      ]
     },
     "execution_count": 9,
     "metadata": {},
     "output_type": "execute_result"
    }
   ],
   "source": [
    "gs.energy"
   ]
  },
  {
   "cell_type": "code",
   "execution_count": 13,
   "metadata": {},
   "outputs": [
    {
     "data": {
      "text/plain": [
       "DeviceArray(-0.88403919, dtype=float64)"
      ]
     },
     "execution_count": 13,
     "metadata": {},
     "output_type": "execute_result"
    }
   ],
   "source": [
    "(gs.energy.mean / (4 * L**3))"
   ]
  },
  {
   "cell_type": "code",
   "execution_count": 14,
   "metadata": {},
   "outputs": [
    {
     "data": {
      "text/plain": [
       "DeviceArray(0.00174509, dtype=float64)"
      ]
     },
     "execution_count": 14,
     "metadata": {},
     "output_type": "execute_result"
    }
   ],
   "source": [
    "(gs.energy.error_of_mean / (4 * L**3))"
   ]
  }
 ],
 "metadata": {
  "kernelspec": {
   "display_name": "Python [conda env:netket]",
   "language": "python",
   "name": "conda-env-netket-py"
  },
  "language_info": {
   "codemirror_mode": {
    "name": "ipython",
    "version": 3
   },
   "file_extension": ".py",
   "mimetype": "text/x-python",
   "name": "python",
   "nbconvert_exporter": "python",
   "pygments_lexer": "ipython3",
   "version": "3.9.5"
  }
 },
 "nbformat": 4,
 "nbformat_minor": 4
}
